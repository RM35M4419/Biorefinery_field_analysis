{
 "cells": [
  {
   "cell_type": "markdown",
   "metadata": {},
   "source": [
    "# Biorefinery Tweets Dataset Descriptive Statistics\n",
    "\n",
    "## Questions\n",
    "1. First tweet about biorefineries\n",
    "    1. When did the fist tweet about biorefineries appear?\n",
    "    2. What did it say?\n",
    "    3. Who did it say it? \n",
    "    4. To what field does the author belong?\n",
    "2. Time & fequency: how many tweetas about biorefinery are per year? How does it compare to all tweets?\n",
    "2. Oldest tweet in relation to the network age\n",
    "3. Proportions of discussions / retweets with sole tweets / unfavorited\n",
    "4. Growth of the subject level of discussion, in relation to the growth of the network usage\n",
    "5. Are there clusters of frequent interacting actors? \n",
    "   1. Is it possible to link it with _real-world_ links? (associations, contracts, commercial relations)\n",
    "6. What is noise in a tweeter feed? Has it been defined, measured, operationalized?\n",
    "7. Proportion of personal and organization accounts"
   ]
  },
  {
   "cell_type": "code",
   "execution_count": null,
   "metadata": {},
   "outputs": [],
   "source": []
  }
 ],
 "metadata": {
  "kernelspec": {
   "display_name": "Python 3",
   "language": "python",
   "name": "python3"
  },
  "language_info": {
   "codemirror_mode": {
    "name": "ipython",
    "version": 3
   },
   "file_extension": ".py",
   "mimetype": "text/x-python",
   "name": "python",
   "nbconvert_exporter": "python",
   "pygments_lexer": "ipython3",
   "version": "3.8.5"
  }
 },
 "nbformat": 4,
 "nbformat_minor": 4
}
