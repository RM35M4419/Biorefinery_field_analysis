{
 "cells": [
  {
   "cell_type": "markdown",
   "source": "# Biorefinery Tweets Dataset Descriptive Statistics",
   "metadata": {
    "tags": [],
    "cell_id": "00001-6d59e79a-0c3e-4acb-ab04-ec0190197dc1",
    "deepnote_cell_type": "text-cell-h1"
   }
  },
  {
   "cell_type": "markdown",
   "source": "## Questions\n1. First tweet about biorefineries\n    1. When did the fist tweet about biorefineries appear?\n    2. What did it say?\n    3. Who did it say it? \n    4. To what field does the author belong?\n2. Time & fequency: how many tweetas about biorefinery are per year? How does it compare to all tweets?\n2. Oldest tweet in relation to the network age\n3. Proportions of discussions / retweets with sole tweets / unfavorited\n4. Growth of the subject level of discussion, in relation to the growth of the network usage\n5. Are there clusters of frequent interacting actors? \n   1. Is it possible to link it with _real-world_ links? (associations, contracts, commercial relations)\n6. What is noise in a tweeter feed? Has it been defined, measured, operationalized?\n7. Proportion of personal and organization accounts",
   "metadata": {
    "tags": [],
    "cell_id": "00002-ad36e880-e996-41f9-8713-0fded0fd5b45",
    "deepnote_cell_type": "markdown"
   }
  },
  {
   "cell_type": "markdown",
   "source": "## Compiled answers (2021-05-30 to ...)\n1. First tweet about biorefineries\n    1. The first tweet was on 2015-09-19 02:38:56 UTC\n    2. It said \"Good morning, I've been busy to get this day going. Writing, reading, figuring out things around biotech, clean tech an biorefineries.\n    3. It was tweeted by Helge Keitel (@digitalvillages)\n    4. He is at \"Business developmnet at KK-net\" (maybe his own company), same as when he tweet it. Maybe he is a sort of trader or venture capitalist.\n2. ",
   "metadata": {
    "tags": [],
    "cell_id": "00003-3768ab3d-d402-43c0-a51f-a210bb5fa5fb",
    "deepnote_cell_type": "markdown"
   }
  },
  {
   "cell_type": "markdown",
   "source": "## Imports",
   "metadata": {
    "tags": [],
    "cell_id": "00003-cd0ddbb5-0782-486c-b83a-376259c09b38",
    "deepnote_cell_type": "markdown"
   }
  },
  {
   "cell_type": "code",
   "metadata": {
    "tags": [],
    "cell_id": "00004-b7831d37-82a8-44a3-ac0f-0409bfb2b492",
    "deepnote_to_be_reexecuted": false,
    "source_hash": "5392161f",
    "execution_start": 1622659071029,
    "execution_millis": 608,
    "deepnote_cell_type": "code"
   },
   "source": "import pandas as pd\nfrom matplotlib import pyplot as plt\nimport numpy as np",
   "execution_count": null,
   "outputs": []
  },
  {
   "cell_type": "markdown",
   "source": "## Importing and combining the data",
   "metadata": {
    "tags": [],
    "cell_id": "00004-49c94efa-4a54-4df8-b6c2-e14395a8d710",
    "deepnote_cell_type": "text-cell-h2"
   }
  },
  {
   "cell_type": "markdown",
   "source": "Tweets containing the keywords \"biorefinery\" or \"biorefineries\" up until 2021-....\n\nTweets where downloaded and combined localy, the following script loads and merges two pikle files: one with individual tweets, aand another with each user information. From both datasets, columns irrelevant for the study where removed.",
   "metadata": {
    "tags": [],
    "cell_id": "00005-cd6cbea1-f8e8-4de5-88c4-f102dcdbe9ee",
    "deepnote_cell_type": "markdown"
   }
  },
  {
   "cell_type": "code",
   "metadata": {
    "tags": [],
    "cell_id": "00006-ab8a7c9f-334e-4631-a287-c0ecc850dda1",
    "deepnote_to_be_reexecuted": false,
    "source_hash": "9e243e8",
    "execution_start": 1622659071645,
    "execution_millis": 218,
    "deepnote_cell_type": "code"
   },
   "source": "def load_pickle_and_combine(tweets_pkl, users_pkl, on_column, rename_cols):\n    tweets = pd.read_pickle(tweets_pkl)\n    tweets_df = pd.DataFrame(tweets)  # sequence suggested by Albert\n\n    users = pd.read_pickle(users_pkl)\n    users_df = pd.DataFrame(users)\n\n    del tweets\n    del users\n\n    users_df['user_id'] = users_df.index\n    tweets_df['id'] = tweets_df.index\n    biorefinery_df = pd.merge(tweets_df, users_df, on=on_column)\n    biorefinery_df.rename(columns=rename_cols, inplace=True)\n    biorefinery_df.set_index('id', inplace=True)\n\n    del tweets_df\n    del users_df\n\n    return biorefinery_df\n\n\ntweets_pkl_file = '/datasets/biorefinery-field-tweets/biorefinery_tweets_df_cleaned.pkl'\nusers_pkl_file = '/datasets/biorefinery-field-tweets/biorefinery_user_df_cleaned.pkl'\njoin_on_column = 'user_id'\ncolumns_renaming = {\n    'created_at_x': 'tweet_created_at',\n    'created_at_y': 'user_created_at',\n    'favourites_count': 'user_favourites_count'\n}\n\ndf = load_pickle_and_combine(tweets_pkl_file, users_pkl_file, join_on_column, columns_renaming)\n\ndel tweets_pkl_file\ndel users_pkl_file\ndel join_on_column\ndel columns_renaming",
   "execution_count": null,
   "outputs": []
  },
  {
   "cell_type": "markdown",
   "source": "## Frequency and growth",
   "metadata": {
    "tags": [],
    "cell_id": "00008-f3ab4ac6-9581-4748-adc5-ddfa89260026",
    "deepnote_cell_type": "markdown"
   }
  },
  {
   "cell_type": "markdown",
   "source": "New DF counting the number of tweets about BR per year, and adding the Twitter network size, as million daily active users",
   "metadata": {
    "tags": [],
    "cell_id": "00009-5543f486-1408-4b8d-98ef-cee34fc5ea4a",
    "deepnote_cell_type": "markdown"
   }
  },
  {
   "cell_type": "code",
   "metadata": {
    "tags": [],
    "cell_id": "00007-684bf084-6771-4ae6-92ca-ea1f0f86c03e",
    "deepnote_to_be_reexecuted": false,
    "source_hash": "997429b7",
    "execution_start": 1622659696454,
    "execution_millis": 302,
    "deepnote_cell_type": "code"
   },
   "source": "percentiles = list(range(10, 100, 10))\npercentiles = [x / 100 for x in percentiles]\n\n\ndescription = df.describe(percentiles=percentiles, include='all', datetime_is_numeric=True)\n\ndf_grupped_year = df.groupby(df['tweet_created_at'].dt.year)['full_text'].count()\n\ndf_grupped_year = pd.DataFrame(df_grupped_year)\n\ntwitter_MAU = {\n    \"2007\": np.NaN,\n    \"2008\": np.NaN,\n    \"2009\": np.NaN,\n    \"2010\": 54,\n    \"2011\": 117,\n    \"2012\": 185,\n    \"2013\": 241,\n    \"2014\": 288,\n    \"2015\": 305,\n    \"2016\": 318,\n    \"2017\": 330,\n    \"2018\": 321,\n    \"2019\": 330,\n    \"2020\": 353,\n    \"2021\": np.NaN\n}  # source: Twitter financial statements and https://backlinko.com/twitter-users accessed on 2021-05-30\n\ndf_grupped_year.reset_index(inplace=True)\n\ndf_grupped_year.rename(\n    columns={'tweet_created_at': 'Year', 'full_text': 'Biorefinery tweets'},\n    inplace=True\n    )\n\ndf_grupped_year['Twitter million daily active users'] = twitter_MAU.values()\n",
   "execution_count": null,
   "outputs": []
  },
  {
   "cell_type": "markdown",
   "source": "Plotting and comparing the evolution.",
   "metadata": {
    "tags": [],
    "cell_id": "00011-c6f0366f-34ca-4b30-b257-197ee863324d",
    "deepnote_cell_type": "markdown"
   }
  },
  {
   "cell_type": "code",
   "metadata": {
    "tags": [],
    "cell_id": "00010-82687b19-a4ec-4696-b46d-3b6caf60fb17",
    "deepnote_to_be_reexecuted": false,
    "source_hash": "9e91c104",
    "execution_start": 1622725628230,
    "execution_millis": 126,
    "deepnote_cell_type": "code"
   },
   "source": "# plotting figures by creating aexs object\n# using subplots() function\nfig, ax = plt.subplots(figsize = (10, 5))\nplt.title('BR tweets & network size per year')\n  \n# using the twinx() for creating another\n# axes object for secondry y-Axis\nax2 = ax.twinx()\nax.plot(df_grupped_year['Year'], df_grupped_year['Biorefinery tweets'], color = 'b')\nax2.plot(df_grupped_year['Year'], df_grupped_year['Twitter million daily active users'], color = 'g')\n  \n# giving labels to the axises\nax.set_xlabel('Year', color = 'k')\nax.set_ylabel('Number of tweets', color = 'k')\n  \n# secondary y-axis label\nax2.set_ylabel('million daily active users', color = 'k')\n\n\n# ax.set_ylabel('Number of tweets containing \"biorefinery\"')\nax.set_ylim(0, 4000)\nax2.set_ylim(0, 400)\n\n# defining display layout \nplt.tight_layout()\n  \n# show plot\nplt.show()",
   "outputs": [
    {
     "output_type": "error",
     "ename": "NameError",
     "evalue": "name 'plt' is not defined",
     "traceback": [
      "\u001b[0;31m---------------------------------------------------------------------------\u001b[0m",
      "\u001b[0;31mNameError\u001b[0m                                 Traceback (most recent call last)",
      "\u001b[0;32m<ipython-input-1-123409b45b1f>\u001b[0m in \u001b[0;36m<module>\u001b[0;34m\u001b[0m\n\u001b[1;32m      1\u001b[0m \u001b[0;31m# plotting figures by creating aexs object\u001b[0m\u001b[0;34m\u001b[0m\u001b[0;34m\u001b[0m\u001b[0;34m\u001b[0m\u001b[0m\n\u001b[1;32m      2\u001b[0m \u001b[0;31m# using subplots() function\u001b[0m\u001b[0;34m\u001b[0m\u001b[0;34m\u001b[0m\u001b[0;34m\u001b[0m\u001b[0m\n\u001b[0;32m----> 3\u001b[0;31m \u001b[0mfig\u001b[0m\u001b[0;34m,\u001b[0m \u001b[0max\u001b[0m \u001b[0;34m=\u001b[0m \u001b[0mplt\u001b[0m\u001b[0;34m.\u001b[0m\u001b[0msubplots\u001b[0m\u001b[0;34m(\u001b[0m\u001b[0mfigsize\u001b[0m \u001b[0;34m=\u001b[0m \u001b[0;34m(\u001b[0m\u001b[0;36m10\u001b[0m\u001b[0;34m,\u001b[0m \u001b[0;36m5\u001b[0m\u001b[0;34m)\u001b[0m\u001b[0;34m)\u001b[0m\u001b[0;34m\u001b[0m\u001b[0;34m\u001b[0m\u001b[0m\n\u001b[0m\u001b[1;32m      4\u001b[0m \u001b[0mplt\u001b[0m\u001b[0;34m.\u001b[0m\u001b[0mtitle\u001b[0m\u001b[0;34m(\u001b[0m\u001b[0;34m'BR tweets & network size per year'\u001b[0m\u001b[0;34m)\u001b[0m\u001b[0;34m\u001b[0m\u001b[0;34m\u001b[0m\u001b[0m\n\u001b[1;32m      5\u001b[0m \u001b[0;34m\u001b[0m\u001b[0m\n",
      "\u001b[0;31mNameError\u001b[0m: name 'plt' is not defined"
     ]
    }
   ],
   "execution_count": null
  },
  {
   "cell_type": "markdown",
   "source": "## Questions about time growth\n2. Time & fequency: how many tweetas about biorefinery are per year? How does it compare to all tweets?\n3. Oldest tweet in relation to the network age\n\n## Answers from previos plot\n2. Tweets count grwo from the start of the network, in a similar slope as the network, but stabilize and start a slow descend in 2014, while the network keeps slowly growing.",
   "metadata": {
    "tags": [],
    "cell_id": "00014-5b46c0e6-be28-4597-b7f3-b851648602d5",
    "deepnote_cell_type": "markdown"
   }
  },
  {
   "cell_type": "code",
   "metadata": {
    "tags": [],
    "cell_id": "00015-d2274917-2795-4bdd-b051-fd38fc74ea9b",
    "deepnote_to_be_reexecuted": false,
    "source_hash": "b57efe1f",
    "execution_start": 1622661106095,
    "execution_millis": 38,
    "deepnote_cell_type": "code"
   },
   "source": "df_grupped_year",
   "execution_count": null,
   "outputs": [
    {
     "output_type": "execute_result",
     "execution_count": 21,
     "data": {
      "application/vnd.deepnote.dataframe.v2+json": {
       "row_count": 15,
       "column_count": 3,
       "columns": [
        {
         "name": "Year",
         "dtype": "int64",
         "stats": {
          "unique_count": 15,
          "nan_count": 0,
          "min": "2007",
          "max": "2021",
          "histogram": [
           {
            "bin_start": 2007,
            "bin_end": 2008.4,
            "count": 2
           },
           {
            "bin_start": 2008.4,
            "bin_end": 2009.8,
            "count": 1
           },
           {
            "bin_start": 2009.8,
            "bin_end": 2011.2,
            "count": 2
           },
           {
            "bin_start": 2011.2,
            "bin_end": 2012.6,
            "count": 1
           },
           {
            "bin_start": 2012.6,
            "bin_end": 2014,
            "count": 1
           },
           {
            "bin_start": 2014,
            "bin_end": 2015.4,
            "count": 2
           },
           {
            "bin_start": 2015.4,
            "bin_end": 2016.8,
            "count": 1
           },
           {
            "bin_start": 2016.8,
            "bin_end": 2018.2,
            "count": 2
           },
           {
            "bin_start": 2018.2,
            "bin_end": 2019.6,
            "count": 1
           },
           {
            "bin_start": 2019.6,
            "bin_end": 2021,
            "count": 2
           }
          ]
         }
        },
        {
         "name": "Biorefinery tweets",
         "dtype": "int64",
         "stats": {
          "unique_count": 15,
          "nan_count": 0,
          "min": "4",
          "max": "3266",
          "histogram": [
           {
            "bin_start": 4,
            "bin_end": 330.2,
            "count": 2
           },
           {
            "bin_start": 330.2,
            "bin_end": 656.4,
            "count": 1
           },
           {
            "bin_start": 656.4,
            "bin_end": 982.5999999999999,
            "count": 1
           },
           {
            "bin_start": 982.5999999999999,
            "bin_end": 1308.8,
            "count": 0
           },
           {
            "bin_start": 1308.8,
            "bin_end": 1635,
            "count": 1
           },
           {
            "bin_start": 1635,
            "bin_end": 1961.1999999999998,
            "count": 0
           },
           {
            "bin_start": 1961.1999999999998,
            "bin_end": 2287.4,
            "count": 2
           },
           {
            "bin_start": 2287.4,
            "bin_end": 2613.6,
            "count": 1
           },
           {
            "bin_start": 2613.6,
            "bin_end": 2939.7999999999997,
            "count": 4
           },
           {
            "bin_start": 2939.7999999999997,
            "bin_end": 3266,
            "count": 3
           }
          ]
         }
        },
        {
         "name": "Twitter million daily active users",
         "dtype": "float64",
         "stats": {
          "unique_count": 10,
          "nan_count": 4,
          "min": "54.0",
          "max": "353.0",
          "histogram": [
           {
            "bin_start": 54,
            "bin_end": 83.9,
            "count": 1
           },
           {
            "bin_start": 83.9,
            "bin_end": 113.8,
            "count": 0
           },
           {
            "bin_start": 113.8,
            "bin_end": 143.7,
            "count": 1
           },
           {
            "bin_start": 143.7,
            "bin_end": 173.6,
            "count": 0
           },
           {
            "bin_start": 173.6,
            "bin_end": 203.5,
            "count": 1
           },
           {
            "bin_start": 203.5,
            "bin_end": 233.39999999999998,
            "count": 0
           },
           {
            "bin_start": 233.39999999999998,
            "bin_end": 263.29999999999995,
            "count": 1
           },
           {
            "bin_start": 263.29999999999995,
            "bin_end": 293.2,
            "count": 1
           },
           {
            "bin_start": 293.2,
            "bin_end": 323.09999999999997,
            "count": 3
           },
           {
            "bin_start": 323.09999999999997,
            "bin_end": 353,
            "count": 3
           }
          ]
         }
        },
        {
         "name": "_deepnote_index_column",
         "dtype": "int64"
        }
       ],
       "rows_top": [
        {
         "Year": 2007,
         "Biorefinery tweets": 4,
         "Twitter million daily active users": "nan",
         "_deepnote_index_column": 0
        },
        {
         "Year": 2008,
         "Biorefinery tweets": 34,
         "Twitter million daily active users": "nan",
         "_deepnote_index_column": 1
        },
        {
         "Year": 2009,
         "Biorefinery tweets": 765,
         "Twitter million daily active users": "nan",
         "_deepnote_index_column": 2
        },
        {
         "Year": 2010,
         "Biorefinery tweets": 1551,
         "Twitter million daily active users": 54,
         "_deepnote_index_column": 3
        },
        {
         "Year": 2011,
         "Biorefinery tweets": 2119,
         "Twitter million daily active users": 117,
         "_deepnote_index_column": 4
        },
        {
         "Year": 2012,
         "Biorefinery tweets": 3266,
         "Twitter million daily active users": 185,
         "_deepnote_index_column": 5
        },
        {
         "Year": 2013,
         "Biorefinery tweets": 2093,
         "Twitter million daily active users": 241,
         "_deepnote_index_column": 6
        },
        {
         "Year": 2014,
         "Biorefinery tweets": 3077,
         "Twitter million daily active users": 288,
         "_deepnote_index_column": 7
        },
        {
         "Year": 2015,
         "Biorefinery tweets": 2933,
         "Twitter million daily active users": 305,
         "_deepnote_index_column": 8
        },
        {
         "Year": 2016,
         "Biorefinery tweets": 2871,
         "Twitter million daily active users": 318,
         "_deepnote_index_column": 9
        },
        {
         "Year": 2017,
         "Biorefinery tweets": 2766,
         "Twitter million daily active users": 330,
         "_deepnote_index_column": 10
        },
        {
         "Year": 2018,
         "Biorefinery tweets": 2964,
         "Twitter million daily active users": 321,
         "_deepnote_index_column": 11
        },
        {
         "Year": 2019,
         "Biorefinery tweets": 2680,
         "Twitter million daily active users": 330,
         "_deepnote_index_column": 12
        },
        {
         "Year": 2020,
         "Biorefinery tweets": 2499,
         "Twitter million daily active users": 353,
         "_deepnote_index_column": 13
        },
        {
         "Year": 2021,
         "Biorefinery tweets": 654,
         "Twitter million daily active users": "nan",
         "_deepnote_index_column": 14
        }
       ],
       "rows_bottom": null
      },
      "text/plain": "    Year  Biorefinery tweets  Twitter million daily active users\n0   2007                   4                                 NaN\n1   2008                  34                                 NaN\n2   2009                 765                                 NaN\n3   2010                1551                                54.0\n4   2011                2119                               117.0\n5   2012                3266                               185.0\n6   2013                2093                               241.0\n7   2014                3077                               288.0\n8   2015                2933                               305.0\n9   2016                2871                               318.0\n10  2017                2766                               330.0\n11  2018                2964                               321.0\n12  2019                2680                               330.0\n13  2020                2499                               353.0\n14  2021                 654                                 NaN",
      "text/html": "<div>\n<style scoped>\n    .dataframe tbody tr th:only-of-type {\n        vertical-align: middle;\n    }\n\n    .dataframe tbody tr th {\n        vertical-align: top;\n    }\n\n    .dataframe thead th {\n        text-align: right;\n    }\n</style>\n<table border=\"1\" class=\"dataframe\">\n  <thead>\n    <tr style=\"text-align: right;\">\n      <th></th>\n      <th>Year</th>\n      <th>Biorefinery tweets</th>\n      <th>Twitter million daily active users</th>\n    </tr>\n  </thead>\n  <tbody>\n    <tr>\n      <th>0</th>\n      <td>2007</td>\n      <td>4</td>\n      <td>NaN</td>\n    </tr>\n    <tr>\n      <th>1</th>\n      <td>2008</td>\n      <td>34</td>\n      <td>NaN</td>\n    </tr>\n    <tr>\n      <th>2</th>\n      <td>2009</td>\n      <td>765</td>\n      <td>NaN</td>\n    </tr>\n    <tr>\n      <th>3</th>\n      <td>2010</td>\n      <td>1551</td>\n      <td>54.0</td>\n    </tr>\n    <tr>\n      <th>4</th>\n      <td>2011</td>\n      <td>2119</td>\n      <td>117.0</td>\n    </tr>\n    <tr>\n      <th>5</th>\n      <td>2012</td>\n      <td>3266</td>\n      <td>185.0</td>\n    </tr>\n    <tr>\n      <th>6</th>\n      <td>2013</td>\n      <td>2093</td>\n      <td>241.0</td>\n    </tr>\n    <tr>\n      <th>7</th>\n      <td>2014</td>\n      <td>3077</td>\n      <td>288.0</td>\n    </tr>\n    <tr>\n      <th>8</th>\n      <td>2015</td>\n      <td>2933</td>\n      <td>305.0</td>\n    </tr>\n    <tr>\n      <th>9</th>\n      <td>2016</td>\n      <td>2871</td>\n      <td>318.0</td>\n    </tr>\n    <tr>\n      <th>10</th>\n      <td>2017</td>\n      <td>2766</td>\n      <td>330.0</td>\n    </tr>\n    <tr>\n      <th>11</th>\n      <td>2018</td>\n      <td>2964</td>\n      <td>321.0</td>\n    </tr>\n    <tr>\n      <th>12</th>\n      <td>2019</td>\n      <td>2680</td>\n      <td>330.0</td>\n    </tr>\n    <tr>\n      <th>13</th>\n      <td>2020</td>\n      <td>2499</td>\n      <td>353.0</td>\n    </tr>\n    <tr>\n      <th>14</th>\n      <td>2021</td>\n      <td>654</td>\n      <td>NaN</td>\n    </tr>\n  </tbody>\n</table>\n</div>"
     },
     "metadata": {}
    }
   ]
  },
  {
   "cell_type": "code",
   "source": "",
   "metadata": {
    "cell_id": "00016-fb226da3-d27a-48c0-9fa8-7f66c6aa0622",
    "deepnote_cell_type": "visualization"
   },
   "execution_count": null,
   "outputs": []
  },
  {
   "cell_type": "markdown",
   "source": "",
   "metadata": {
    "tags": [],
    "cell_id": "00015-7535f281-9baf-4e02-8846-ee698462df5b",
    "deepnote_cell_type": "markdown"
   }
  },
  {
   "cell_type": "markdown",
   "source": "<a style='text-decoration:none;line-height:16px;display:flex;color:#5B5B62;padding:10px;justify-content:end;' href='https://deepnote.com?utm_source=created-in-deepnote-cell&projectId=871ffec2-54c7-4bc1-854a-6bcd2254c0fb' target=\"_blank\">\n<img alt='Created in deepnote.com' style='display:inline;max-height:16px;margin:0px;margin-right:7.5px;' src='data:image/svg+xml;base64,PD94bWwgdmVyc2lvbj0iMS4wIiBlbmNvZGluZz0iVVRGLTgiPz4KPHN2ZyB3aWR0aD0iODBweCIgaGVpZ2h0PSI4MHB4IiB2aWV3Qm94PSIwIDAgODAgODAiIHZlcnNpb249IjEuMSIgeG1sbnM9Imh0dHA6Ly93d3cudzMub3JnLzIwMDAvc3ZnIiB4bWxuczp4bGluaz0iaHR0cDovL3d3dy53My5vcmcvMTk5OS94bGluayI+CiAgICA8IS0tIEdlbmVyYXRvcjogU2tldGNoIDU0LjEgKDc2NDkwKSAtIGh0dHBzOi8vc2tldGNoYXBwLmNvbSAtLT4KICAgIDx0aXRsZT5Hcm91cCAzPC90aXRsZT4KICAgIDxkZXNjPkNyZWF0ZWQgd2l0aCBTa2V0Y2guPC9kZXNjPgogICAgPGcgaWQ9IkxhbmRpbmciIHN0cm9rZT0ibm9uZSIgc3Ryb2tlLXdpZHRoPSIxIiBmaWxsPSJub25lIiBmaWxsLXJ1bGU9ImV2ZW5vZGQiPgogICAgICAgIDxnIGlkPSJBcnRib2FyZCIgdHJhbnNmb3JtPSJ0cmFuc2xhdGUoLTEyMzUuMDAwMDAwLCAtNzkuMDAwMDAwKSI+CiAgICAgICAgICAgIDxnIGlkPSJHcm91cC0zIiB0cmFuc2Zvcm09InRyYW5zbGF0ZSgxMjM1LjAwMDAwMCwgNzkuMDAwMDAwKSI+CiAgICAgICAgICAgICAgICA8cG9seWdvbiBpZD0iUGF0aC0yMCIgZmlsbD0iIzAyNjVCNCIgcG9pbnRzPSIyLjM3NjIzNzYyIDgwIDM4LjA0NzY2NjcgODAgNTcuODIxNzgyMiA3My44MDU3NTkyIDU3LjgyMTc4MjIgMzIuNzU5MjczOSAzOS4xNDAyMjc4IDMxLjY4MzE2ODMiPjwvcG9seWdvbj4KICAgICAgICAgICAgICAgIDxwYXRoIGQ9Ik0zNS4wMDc3MTgsODAgQzQyLjkwNjIwMDcsNzYuNDU0OTM1OCA0Ny41NjQ5MTY3LDcxLjU0MjI2NzEgNDguOTgzODY2LDY1LjI2MTk5MzkgQzUxLjExMjI4OTksNTUuODQxNTg0MiA0MS42NzcxNzk1LDQ5LjIxMjIyODQgMjUuNjIzOTg0Niw0OS4yMTIyMjg0IEMyNS40ODQ5Mjg5LDQ5LjEyNjg0NDggMjkuODI2MTI5Niw0My4yODM4MjQ4IDM4LjY0NzU4NjksMzEuNjgzMTY4MyBMNzIuODcxMjg3MSwzMi41NTQ0MjUgTDY1LjI4MDk3Myw2Ny42NzYzNDIxIEw1MS4xMTIyODk5LDc3LjM3NjE0NCBMMzUuMDA3NzE4LDgwIFoiIGlkPSJQYXRoLTIyIiBmaWxsPSIjMDAyODY4Ij48L3BhdGg+CiAgICAgICAgICAgICAgICA8cGF0aCBkPSJNMCwzNy43MzA0NDA1IEwyNy4xMTQ1MzcsMC4yNTcxMTE0MzYgQzYyLjM3MTUxMjMsLTEuOTkwNzE3MDEgODAsMTAuNTAwMzkyNyA4MCwzNy43MzA0NDA1IEM4MCw2NC45NjA0ODgyIDY0Ljc3NjUwMzgsNzkuMDUwMzQxNCAzNC4zMjk1MTEzLDgwIEM0Ny4wNTUzNDg5LDc3LjU2NzA4MDggNTMuNDE4MjY3Nyw3MC4zMTM2MTAzIDUzLjQxODI2NzcsNTguMjM5NTg4NSBDNTMuNDE4MjY3Nyw0MC4xMjg1NTU3IDM2LjMwMzk1NDQsMzcuNzMwNDQwNSAyNS4yMjc0MTcsMzcuNzMwNDQwNSBDMTcuODQzMDU4NiwzNy43MzA0NDA1IDkuNDMzOTE5NjYsMzcuNzMwNDQwNSAwLDM3LjczMDQ0MDUgWiIgaWQ9IlBhdGgtMTkiIGZpbGw9IiMzNzkzRUYiPjwvcGF0aD4KICAgICAgICAgICAgPC9nPgogICAgICAgIDwvZz4KICAgIDwvZz4KPC9zdmc+' > </img>\nCreated in <span style='font-weight:600;margin-left:4px;'>Deepnote</span></a>",
   "metadata": {
    "tags": [],
    "created_in_deepnote_cell": true,
    "deepnote_cell_type": "markdown"
   }
  }
 ],
 "nbformat": 4,
 "nbformat_minor": 2,
 "metadata": {
  "orig_nbformat": 2,
  "deepnote": {
   "is_reactive": false
  },
  "deepnote_notebook_id": "8895d648-96bd-4c31-a9ed-76e1cf30f956",
  "deepnote_execution_queue": []
 }
}